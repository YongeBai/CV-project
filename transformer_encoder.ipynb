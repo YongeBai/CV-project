{
 "cells": [
  {
   "cell_type": "code",
   "execution_count": 1,
   "metadata": {},
   "outputs": [],
   "source": [
    "import numpy as np\n",
    "import glob\n",
    "from PIL import Image\n",
    "import matplotlib.pyplot as plt\n",
    "import torch"
   ]
  },
  {
   "cell_type": "code",
   "execution_count": 2,
   "metadata": {},
   "outputs": [],
   "source": [
    "download_path = \"datasets\"  # change to your own download path\n",
    "path_query = download_path + \"/query_img_4186\"\n",
    "path_query_txt = download_path + \"/query_img_box_4186\"\n",
    "\n",
    "# path_query_txt is the directory to the bounding box information of the instance(s) for the query images\n",
    "path_gallery = download_path + \"/gallery_4186\"\n",
    "\n",
    "name_query = glob.glob(path_query + \"/*.jpg\")\n",
    "num_query = len(name_query)\n",
    "\n",
    "name_box = glob.glob(path_query_txt+\"/*.txt\")\n",
    "\n",
    "name_gallery = glob.glob(path_gallery + \"/*.jpg\")\n",
    "num_gallery = len(name_gallery)\n",
    "record_all = np.zeros((num_query, len(name_gallery)))\n",
    "\n",
    "query_imgs_no = [x.split(\"/\")[-1][:-4] for x in glob.glob(path_query + \"/*.jpg\")]\n",
    "gallery_imgs_no = [x.split(\"/\")[-1][:-4] for x in glob.glob(path_gallery + \"/*.jpg\")]"
   ]
  },
  {
   "cell_type": "code",
   "execution_count": 3,
   "metadata": {},
   "outputs": [],
   "source": [
    "from transformers import AutoImageProcessor, AutoModel\n",
    "\n",
    "# processor = AutoImageProcessor.from_pretrained(\"facebook/dinov2-small\")\n",
    "# model = AutoModel.from_pretrained(\"facebook/dinov2-small\")\n",
    "device = \"cuda\" if torch.cuda.is_available() else \"cpu\"\n",
    "# model.to(device)\n",
    "\n",
    "# total_params = sum(p.numel() for p in model.parameters())\n",
    "# print(total_params)"
   ]
  },
  {
   "cell_type": "code",
   "execution_count": 4,
   "metadata": {},
   "outputs": [],
   "source": [
    "import timm\n",
    "import torch\n",
    "\n",
    "\n",
    "model = timm.create_model(\n",
    "    'vit_so400m_patch14_siglip_384',\n",
    "    pretrained=True,\n",
    "    num_classes=0, \n",
    ")\n",
    "model = model.eval()"
   ]
  },
  {
   "cell_type": "code",
   "execution_count": 5,
   "metadata": {},
   "outputs": [],
   "source": [
    "from torchvision.transforms import Resize, Compose, ToTensor\n",
    "from torch.utils.data import Dataset, DataLoader\n",
    "\n",
    "\n",
    "class QueryDataset(torch.utils.data.Dataset):\n",
    "    def __init__(self, image_paths, bounding_box_path,transform):        \n",
    "        self.image_paths = image_paths\n",
    "        self.transform = transform\n",
    "        self.bounding_box_path = bounding_box_path\n",
    "\n",
    "    def __len__(self):\n",
    "        return len(self.image_paths)\n",
    "\n",
    "    def __getitem__(self, idx):\n",
    "        image_path = self.image_paths[idx]\n",
    "        image = Image.open(image_path)\n",
    "\n",
    "        bounding_box = self.bounding_box_path[idx]\n",
    "        x, y, w, h = np.loadtxt(bounding_box)\n",
    "\n",
    "        # image = image.crop((x, y, x+w, y+h))        \n",
    "        image = self.transform(image)\n",
    "        return image\n",
    "\n",
    "class GalleryDataset(torch.utils.data.Dataset):\n",
    "    def __init__(self, image_paths, transform):        \n",
    "        self.image_paths = image_paths\n",
    "        self.transform = transform\n",
    "\n",
    "    def __len__(self):\n",
    "        return len(self.image_paths)\n",
    "\n",
    "    def __getitem__(self, idx):\n",
    "        image_path = self.image_paths[idx]\n",
    "        image = Image.open(image_path)        \n",
    "        image = self.transform(image)\n",
    "        return image  \n",
    "\n"
   ]
  },
  {
   "cell_type": "code",
   "execution_count": 7,
   "metadata": {},
   "outputs": [],
   "source": [
    "\n",
    "data_config = timm.data.resolve_model_data_config(model)\n",
    "transforms = timm.data.create_transform(**data_config, is_training=False)"
   ]
  },
  {
   "cell_type": "code",
   "execution_count": 8,
   "metadata": {},
   "outputs": [],
   "source": [
    "train_dataset = QueryDataset(name_query, name_box, transform=transforms)\n",
    "train_data_loader = DataLoader(train_dataset, batch_size=20, num_workers=32)  \n",
    "\n",
    "query_embeddings = []\n",
    "with torch.no_grad():\n",
    "    for images in train_data_loader:\n",
    "        images = images.to(device)\n",
    "        outputs = model.forward_features(images)\n",
    "        query_embeddings.append(outputs)\n",
    "        torch.cuda.empty_cache()\n",
    "        "
   ]
  },
  {
   "cell_type": "code",
   "execution_count": 9,
   "metadata": {},
   "outputs": [
    {
     "name": "stdout",
     "output_type": "stream",
     "text": [
      "torch.Size([20, 729, 1152])\n"
     ]
    }
   ],
   "source": [
    "print(query_embeddings[0].shape)"
   ]
  },
  {
   "cell_type": "code",
   "execution_count": 10,
   "metadata": {},
   "outputs": [],
   "source": [
    "from tqdm import tqdm\n",
    "from tqdm.notebook import tqdm"
   ]
  },
  {
   "cell_type": "code",
   "execution_count": 13,
   "metadata": {},
   "outputs": [
    {
     "data": {
      "application/vnd.jupyter.widget-view+json": {
       "model_id": "1c1e577fce1a4093838136626ae2af4d",
       "version_major": 2,
       "version_minor": 0
      },
      "text/plain": [
       "Processing Images:   0%|          | 0/3 [00:00<?, ?it/s]"
      ]
     },
     "metadata": {},
     "output_type": "display_data"
    },
    {
     "ename": "",
     "evalue": "",
     "output_type": "error",
     "traceback": [
      "\u001b[1;31mThe Kernel crashed while executing code in the current cell or a previous cell. \n",
      "\u001b[1;31mPlease review the code in the cell(s) to identify a possible cause of the failure. \n",
      "\u001b[1;31mClick <a href='https://aka.ms/vscodeJupyterKernelCrash'>here</a> for more info. \n",
      "\u001b[1;31mView Jupyter <a href='command:jupyter.viewOutput'>log</a> for further details."
     ]
    }
   ],
   "source": [
    "import gc\n",
    "test_dataset = GalleryDataset(name_gallery, transform=transforms)\n",
    "test_data_loader = DataLoader(test_dataset, batch_size=2048, num_workers=32)  \n",
    "\n",
    "gallery_embeddings = []\n",
    "with torch.no_grad():\n",
    "    for images in tqdm(test_data_loader, desc=\"Processing Images\"):\n",
    "        # images = images.to(device)\n",
    "        outputs = model.forward_features(images)\n",
    "        gallery_embeddings.append(outputs)\n",
    "                \n",
    "        del images, outputs\n",
    "        gc.collect()\n"
   ]
  },
  {
   "cell_type": "code",
   "execution_count": null,
   "metadata": {},
   "outputs": [],
   "source": [
    "torch.save(gallery_embeddings, \"gallery_embeddings_SigLIP.pt\")"
   ]
  },
  {
   "cell_type": "code",
   "execution_count": null,
   "metadata": {},
   "outputs": [],
   "source": [
    "query_embeddings_combined = torch.cat(query_embeddings, dim=0)\n",
    "\n",
    "gallery_embeddings_combined = torch.cat(gallery_embeddings, dim=0)"
   ]
  },
  {
   "cell_type": "code",
   "execution_count": null,
   "metadata": {},
   "outputs": [
    {
     "name": "stdout",
     "output_type": "stream",
     "text": [
      "torch.Size([20, 257, 384])\n",
      "torch.Size([4967, 257, 384])\n"
     ]
    }
   ],
   "source": [
    "print(query_embeddings_combined.shape)\n",
    "print(gallery_embeddings_combined.shape)"
   ]
  },
  {
   "cell_type": "code",
   "execution_count": null,
   "metadata": {},
   "outputs": [
    {
     "name": "stdout",
     "output_type": "stream",
     "text": [
      "torch.Size([20, 98688])\n",
      "torch.Size([4967, 98688])\n"
     ]
    }
   ],
   "source": [
    "import torch.nn.functional as F\n",
    "\n",
    "query_embeddings_combined = query_embeddings_combined.view(query_embeddings_combined.shape[0], -1)\n",
    "gallery_embeddings_combined = gallery_embeddings_combined.view(gallery_embeddings_combined.shape[0], -1)\n",
    "\n",
    "print(query_embeddings_combined.shape)\n",
    "print(gallery_embeddings_combined.shape)"
   ]
  },
  {
   "cell_type": "code",
   "execution_count": null,
   "metadata": {},
   "outputs": [],
   "source": [
    "query_embeddings_norm = F.normalize(query_embeddings_combined)\n",
    "gallery_embeddings_norm = F.normalize(gallery_embeddings_combined)"
   ]
  },
  {
   "cell_type": "code",
   "execution_count": null,
   "metadata": {},
   "outputs": [
    {
     "name": "stdout",
     "output_type": "stream",
     "text": [
      "tensor([[ 0.0012,  0.0025,  0.0022,  ...,  0.0008, -0.0023, -0.0037],\n",
      "        [-0.0017,  0.0035,  0.0016,  ..., -0.0002, -0.0020, -0.0051],\n",
      "        [ 0.0004,  0.0034,  0.0014,  ...,  0.0004, -0.0019, -0.0036],\n",
      "        ...,\n",
      "        [ 0.0015,  0.0017,  0.0025,  ...,  0.0017, -0.0019, -0.0059],\n",
      "        [ 0.0010,  0.0021,  0.0027,  ...,  0.0006, -0.0026, -0.0049],\n",
      "        [ 0.0017,  0.0023,  0.0020,  ...,  0.0005, -0.0010, -0.0054]])\n"
     ]
    }
   ],
   "source": [
    "print(query_embeddings_norm)"
   ]
  },
  {
   "cell_type": "code",
   "execution_count": null,
   "metadata": {},
   "outputs": [],
   "source": [
    "cosine_similarities = torch.empty((query_embeddings_norm.shape[0], gallery_embeddings_norm.shape[0]))\n",
    "\n",
    "for i in range(query_embeddings_norm.shape[0]):\n",
    "    query_embedding = query_embeddings_norm[i].unsqueeze(0) # Shape [1, embedding_dim]    \n",
    "    dot_product = torch.matmul(query_embedding, gallery_embeddings_norm.T)\n",
    "    query_norm = torch.norm(query_embedding, dim=1)\n",
    "    gallery_norm = torch.norm(gallery_embeddings_norm, dim=1)\n",
    "    cosine_similarities[i] = dot_product / (query_norm * gallery_norm)\n",
    "\n"
   ]
  },
  {
   "cell_type": "code",
   "execution_count": null,
   "metadata": {},
   "outputs": [],
   "source": [
    "torch.save(cosine_similarities, \"cosine_similarity_SigLIP.pt\")"
   ]
  },
  {
   "cell_type": "code",
   "execution_count": null,
   "metadata": {},
   "outputs": [],
   "source": [
    "sorted_similarities, sorted_indices = torch.sort(cosine_similarities, dim=1, descending=True)"
   ]
  },
  {
   "cell_type": "code",
   "execution_count": null,
   "metadata": {},
   "outputs": [
    {
     "name": "stdout",
     "output_type": "stream",
     "text": [
      "torch.Size([20, 4967])\n",
      "tensor([1540, 4329, 3451,  ..., 4664, 1282, 2311])\n",
      "tensor([1105, 1789,  252,  ..., 4664, 4532, 2311])\n",
      "tensor([2039, 2848,  535,  ..., 1803, 4664, 2311])\n",
      "tensor([4715, 4085, 1498,  ..., 4664, 2311, 4532])\n",
      "tensor([1829, 2258, 2489,  ..., 1679, 1282, 2311])\n",
      "tensor([3317,  428, 4174,  ..., 1282, 4664, 2311])\n",
      "tensor([  52, 3724, 4536,  ..., 1679, 4664, 2311])\n",
      "tensor([2700, 4488, 1281,  ..., 4532, 4664, 2311])\n",
      "tensor([3581, 4813, 3023,  ..., 1185, 1282, 2311])\n",
      "tensor([2324, 1814, 1170,  ..., 4664, 2311, 4532])\n",
      "tensor([4813, 2319, 3519,  ..., 4664, 1282, 2311])\n",
      "tensor([2562, 3597, 4371,  ..., 4532, 4664, 2311])\n",
      "tensor([3657, 4465,  397,  ..., 2390, 2311, 4664])\n",
      "tensor([  45, 2239, 4382,  ..., 4664, 1282, 2311])\n",
      "tensor([3914, 4298, 2929,  ..., 1185, 1282, 2311])\n",
      "tensor([1099, 3857, 1504,  ..., 1282, 4664, 2311])\n",
      "tensor([ 305, 2020, 4799,  ..., 4664, 4532, 2311])\n",
      "tensor([3613, 1788,  949,  ..., 4664, 1282, 2311])\n",
      "tensor([2483, 2755, 2464,  ..., 1282, 4664, 2311])\n",
      "tensor([1729, 3564, 4625,  ..., 3563, 4664, 2311])\n"
     ]
    }
   ],
   "source": [
    "print(sorted_indices.shape)\n",
    "\n",
    "for i in range(len(sorted_indices)):\n",
    "    print(sorted_indices[i])"
   ]
  },
  {
   "cell_type": "code",
   "execution_count": null,
   "metadata": {},
   "outputs": [],
   "source": [
    "f = open(\"transformer_rank_list.txt\", \"w\")\n",
    "for i in range(len(sorted_indices)):\n",
    "    f.write(\"Q\" + str(i + 1) + \": \")    \n",
    "    f.write(\" \".join([str(x.item()) for x in sorted_indices[i]]))\n",
    "    f.write(\"\\n\")\n",
    "f.close()"
   ]
  },
  {
   "cell_type": "code",
   "execution_count": null,
   "metadata": {},
   "outputs": [],
   "source": [
    "import os\n",
    "import glob\n",
    "import numpy as np\n",
    "import shutil\n",
    "\n",
    "\n",
    "download_path = \"datasets\"\n",
    "path_gallery = os.path.join(download_path, \"gallery_4186\")\n",
    "all_indices = []\n",
    "\n",
    "for query_img_no in query_imgs_no:\n",
    "    # Create a folder for the query image\n",
    "    query_img_folder = os.path.join(download_path, f\"image_{query_img_no}\")\n",
    "    os.makedirs(query_img_folder, exist_ok=True)\n",
    "    \n",
    "    # Get the top 10 indices for this query image\n",
    "    top_10_indices = sorted_indices[query_imgs_no.index(query_img_no), :10].tolist()\n",
    "    \n",
    "    # Copy the top 10 most similar gallery images to the query image's folder\n",
    "    for index in top_10_indices:\n",
    "        gallery_img_name = gallery_imgs_no[index] + \".jpg\" # Assuming gallery images are in .jpg format\n",
    "        src_path = os.path.join(path_gallery, gallery_img_name)\n",
    "        dst_path = os.path.join(query_img_folder, gallery_img_name)\n",
    "        shutil.copy(src_path, dst_path)\n",
    "\n",
    "    all_indices.extend(top_10_indices)\n",
    "\n",
    "# Write all the indices to a single text file\n",
    "with open(os.path.join(download_path, \"transformer_top10.txt\"), 'w') as file:\n",
    "    for i, index in enumerate(all_indices):\n",
    "        file.write(f\"Q{i+1}: {index}\\n\")\n"
   ]
  },
  {
   "cell_type": "code",
   "execution_count": null,
   "metadata": {},
   "outputs": [],
   "source": []
  }
 ],
 "metadata": {
  "kernelspec": {
   "display_name": ".venv",
   "language": "python",
   "name": "python3"
  },
  "language_info": {
   "codemirror_mode": {
    "name": "ipython",
    "version": 3
   },
   "file_extension": ".py",
   "mimetype": "text/x-python",
   "name": "python",
   "nbconvert_exporter": "python",
   "pygments_lexer": "ipython3",
   "version": "3.10.10"
  }
 },
 "nbformat": 4,
 "nbformat_minor": 2
}

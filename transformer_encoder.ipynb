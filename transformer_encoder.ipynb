{
 "cells": [
  {
   "cell_type": "code",
   "execution_count": 20,
   "metadata": {},
   "outputs": [],
   "source": [
    "import numpy as np\n",
    "import glob\n",
    "import cv2\n",
    "from PIL import Image\n",
    "import matplotlib.pyplot as plt"
   ]
  },
  {
   "cell_type": "code",
   "execution_count": 21,
   "metadata": {},
   "outputs": [],
   "source": [
    "download_path = \"datasets\"  # change to your own download path\n",
    "path_query = download_path + \"/query_img_4186\"\n",
    "path_query_txt = download_path + \"/query_img_box_4186\"\n",
    "\n",
    "# path_query_txt is the directory to the bounding box information of the instance(s) for the query images\n",
    "path_gallery = download_path + \"/gallery_4186\"\n",
    "\n",
    "name_query = glob.glob(path_query + \"/*.jpg\")\n",
    "num_query = len(name_query)\n",
    "\n",
    "name_box = glob.glob(path_query_txt+\"/*.txt\")\n",
    "\n",
    "name_gallery = glob.glob(path_gallery + \"/*.jpg\")\n",
    "num_gallery = len(name_gallery)\n",
    "record_all = np.zeros((num_query, len(name_gallery)))\n",
    "\n",
    "query_imgs_no = [x.split(\"/\")[-1][:-4] for x in glob.glob(path_query + \"/*.jpg\")]\n",
    "gallery_imgs_no = [x.split(\"/\")[-1][:-4] for x in glob.glob(path_gallery + \"/*.jpg\")]"
   ]
  },
  {
   "cell_type": "code",
   "execution_count": 22,
   "metadata": {},
   "outputs": [],
   "source": [
    "# from transformers import AutoImageProcessor, AutoModel\n",
    "\n",
    "# processor = AutoImageProcessor.from_pretrained(\"facebook/dinov2-base\")\n",
    "# model = AutoModel.from_pretrained(\"facebook/dinov2-base\")"
   ]
  },
  {
   "cell_type": "code",
   "execution_count": 23,
   "metadata": {},
   "outputs": [],
   "source": [
    "import timm\n",
    "import torch\n",
    "import gc\n",
    "# del model\n",
    "# gc.collect()\n",
    "# torch.cuda.empty_cache()\n",
    "\n",
    "model = timm.create_model(\n",
    "    'efficientnet_b0',\n",
    "    pretrained=True,\n",
    "    num_classes=0, \n",
    ")\n",
    "model = model.eval()\n",
    "device = \"cuda\" if torch.cuda.is_available() else \"cpu\"\n",
    "model = model.to(device)"
   ]
  },
  {
   "cell_type": "code",
   "execution_count": 24,
   "metadata": {},
   "outputs": [],
   "source": [
    "from torchvision.transforms import Resize, Compose, ToTensor\n",
    "from torch.utils.data import Dataset, DataLoader\n",
    "\n",
    "\n",
    "class QueryDataset(torch.utils.data.Dataset):\n",
    "    def __init__(self, image_paths, bounding_box_path,transform=None):        \n",
    "        self.image_paths = image_paths\n",
    "        self.transform = transform\n",
    "        self.bounding_box_path = bounding_box_path\n",
    "\n",
    "    def __len__(self):\n",
    "        return len(self.image_paths)\n",
    "\n",
    "    def __getitem__(self, idx):\n",
    "        image_path = self.image_paths[idx]\n",
    "        image = Image.open(image_path)\n",
    "\n",
    "        bounding_box = self.bounding_box_path[idx]\n",
    "        x, y, w, h = np.loadtxt(bounding_box)\n",
    "\n",
    "        # image = image.crop((x, y, x+w, y+h))        \n",
    "        image = self.transform(image)\n",
    "        return image\n",
    "\n",
    "class GalleryDataset(torch.utils.data.Dataset):\n",
    "    def __init__(self, image_paths, transform=None):        \n",
    "        self.image_paths = image_paths\n",
    "        self.transform = transform\n",
    "\n",
    "    def __len__(self):\n",
    "        return len(self.image_paths)\n",
    "\n",
    "    def __getitem__(self, idx):\n",
    "        image_path = self.image_paths[idx]\n",
    "        image = Image.open(image_path)        \n",
    "        image = self.transform(image)\n",
    "        return image  \n",
    "\n"
   ]
  },
  {
   "cell_type": "code",
   "execution_count": 25,
   "metadata": {},
   "outputs": [
    {
     "name": "stdout",
     "output_type": "stream",
     "text": [
      "Compose(\n",
      "    Resize(size=256, interpolation=bicubic, max_size=None, antialias=True)\n",
      "    CenterCrop(size=(224, 224))\n",
      "    ToTensor()\n",
      "    Normalize(mean=tensor([0.4850, 0.4560, 0.4060]), std=tensor([0.2290, 0.2240, 0.2250]))\n",
      ")\n"
     ]
    }
   ],
   "source": [
    "from torchvision.transforms import Resize, Compose, Normalize, CenterCrop\n",
    "from torchvision.transforms.functional import InterpolationMode\n",
    "import torch\n",
    "\n",
    "# Correctly specify the interpolation mode using InterpolationMode enum\n",
    "# transforms = Compose([\n",
    "#     Resize(size=1024, interpolation=InterpolationMode.BICUBIC, max_size=None, antialias=True),\n",
    "#     CenterCrop(size=(1024, 1024)),\n",
    "#     Normalize(mean=torch.tensor([0.4850, 0.4560, 0.4060]), std=torch.tensor([0.2290, 0.2240, 0.2250])),\n",
    "# ])\n",
    "\n",
    "\n",
    "data_config = timm.data.resolve_model_data_config(model)\n",
    "transforms = timm.data.create_transform(**data_config, is_training=False)\n",
    "# transforms = to\n",
    "print(transforms)"
   ]
  },
  {
   "cell_type": "code",
   "execution_count": 26,
   "metadata": {},
   "outputs": [],
   "source": [
    "dataset = QueryDataset(name_query, name_box, transform=transforms)\n",
    "data_loader = DataLoader(dataset, batch_size=4, num_workers=4)  \n",
    "\n",
    "dino_query_embeddings = []\n",
    "with torch.no_grad():\n",
    "    for images in data_loader:\n",
    "        outputs = model.forward_features(images.to('cuda'))\n",
    "        # outputs = model.forward_features(images)\n",
    "        dino_query_embeddings.append(outputs)\n",
    "        torch.cuda.empty_cache()\n",
    "        \n"
   ]
  },
  {
   "cell_type": "code",
   "execution_count": 27,
   "metadata": {},
   "outputs": [
    {
     "name": "stdout",
     "output_type": "stream",
     "text": [
      "torch.Size([4, 1280, 7, 7])\n"
     ]
    }
   ],
   "source": [
    "print(dino_query_embeddings[0].shape)"
   ]
  },
  {
   "cell_type": "code",
   "execution_count": 28,
   "metadata": {},
   "outputs": [],
   "source": [
    "# # del model\n",
    "# # gc.collect()\n",
    "# # torch.cuda.empty_cache()\n",
    "\n",
    "# model = timm.create_model(\n",
    "#     'samvit_base_patch16.sa1b',\n",
    "#     pretrained=True,\n",
    "#     num_classes=0, \n",
    "# )\n",
    "# model = model.eval()\n",
    "# device = \"cuda\" if torch.cuda.is_available() else \"cpu\"\n",
    "# model = model.to(device)"
   ]
  },
  {
   "cell_type": "code",
   "execution_count": 29,
   "metadata": {},
   "outputs": [],
   "source": [
    "dataset = GalleryDataset(name_gallery, transform=transforms)\n",
    "data_loader = DataLoader(dataset, batch_size=4, num_workers=4)  \n",
    "\n",
    "dino_gallery_embeddings = []\n",
    "with torch.no_grad():\n",
    "    for images in data_loader:\n",
    "        outputs = model.forward_features(images.to('cuda'))\n",
    "        dino_gallery_embeddings.append(outputs)\n",
    "        torch.cuda.empty_cache()"
   ]
  },
  {
   "cell_type": "code",
   "execution_count": 30,
   "metadata": {},
   "outputs": [
    {
     "data": {
      "text/plain": [
       "torch.Size([4, 1280, 7, 7])"
      ]
     },
     "execution_count": 30,
     "metadata": {},
     "output_type": "execute_result"
    }
   ],
   "source": [
    "dino_gallery_embeddings[0].shape"
   ]
  },
  {
   "cell_type": "code",
   "execution_count": 31,
   "metadata": {},
   "outputs": [],
   "source": [
    "\n",
    "# dino_query_embeddings = []\n",
    "\n",
    "# for i, query_img_no in enumerate(query_imgs_no[:1]):    \n",
    "#     per_query_name = path_query + \"/\" + str(query_img_no) + \".jpg\"\n",
    "#     per_query_txt_name = path_query_txt + \"/\" + str(query_img_no) + \".txt\"\n",
    "#     print(per_query_name)\n",
    "#     x, y, w, h = np.loadtxt(per_query_txt_name)\n",
    "#     per_query = cv2.imread(per_query_name)    \n",
    "#     per_query = cv2.cvtColor(per_query, cv2.COLOR_BGR2RGB)\n",
    "#     per_query = per_query[int(y):int(y+h), int(x):int(x+w)]\n",
    "#     inputs = processor(images=per_query, return_tensors=\"pt\")\n",
    "#     outputs = model(**inputs)\n",
    "#     dino_query_embeddings.append(outputs.last_hidden_state)"
   ]
  },
  {
   "cell_type": "code",
   "execution_count": 32,
   "metadata": {},
   "outputs": [],
   "source": [
    "# dino_gallery_embeddings = []\n",
    "\n",
    "# for j, gallery_img_no in enumerate(gallery_imgs_no):\n",
    "#     per_gallery_name = path_gallery + \"/\" + str(gallery_img_no) + \".jpg\"\n",
    "#     per_gallery = cv2.imread(per_gallery_name)\n",
    "#     per_gallery = cv2.cvtColor(per_gallery, cv2.COLOR_BGR2RGB)\n",
    "#     inputs = processor(images=per_gallery, return_tensors=\"pt\")\n",
    "#     outputs = model(**inputs)\n",
    "#     dino_gallery_embeddings.append(outputs.last_hidden_state)\n"
   ]
  },
  {
   "cell_type": "code",
   "execution_count": 33,
   "metadata": {},
   "outputs": [
    {
     "ename": "RuntimeError",
     "evalue": "stack expects each tensor to be equal size, but got [250880] at entry 0 and [188160] at entry 1241",
     "output_type": "error",
     "traceback": [
      "\u001b[0;31m---------------------------------------------------------------------------\u001b[0m",
      "\u001b[0;31mRuntimeError\u001b[0m                              Traceback (most recent call last)",
      "Cell \u001b[0;32mIn[33], line 2\u001b[0m\n\u001b[1;32m      1\u001b[0m dino_query_embeddings \u001b[38;5;241m=\u001b[39m torch\u001b[38;5;241m.\u001b[39mstack([qe\u001b[38;5;241m.\u001b[39mflatten() \u001b[38;5;28;01mfor\u001b[39;00m qe \u001b[38;5;129;01min\u001b[39;00m dino_query_embeddings])\n\u001b[0;32m----> 2\u001b[0m dino_gallery_embeddings \u001b[38;5;241m=\u001b[39m \u001b[43mtorch\u001b[49m\u001b[38;5;241;43m.\u001b[39;49m\u001b[43mstack\u001b[49m\u001b[43m(\u001b[49m\u001b[43m[\u001b[49m\u001b[43mge\u001b[49m\u001b[38;5;241;43m.\u001b[39;49m\u001b[43mflatten\u001b[49m\u001b[43m(\u001b[49m\u001b[43m)\u001b[49m\u001b[43m \u001b[49m\u001b[38;5;28;43;01mfor\u001b[39;49;00m\u001b[43m \u001b[49m\u001b[43mge\u001b[49m\u001b[43m \u001b[49m\u001b[38;5;129;43;01min\u001b[39;49;00m\u001b[43m \u001b[49m\u001b[43mdino_gallery_embeddings\u001b[49m\u001b[43m]\u001b[49m\u001b[43m)\u001b[49m\n\u001b[1;32m      4\u001b[0m \u001b[38;5;28mprint\u001b[39m(dino_query_embeddings[\u001b[38;5;241m0\u001b[39m]\u001b[38;5;241m.\u001b[39mshape)\n\u001b[1;32m      6\u001b[0m dino_query_embeddings_norm \u001b[38;5;241m=\u001b[39m dino_query_embeddings \u001b[38;5;241m/\u001b[39m dino_query_embeddings\u001b[38;5;241m.\u001b[39mnorm(dim\u001b[38;5;241m=\u001b[39m\u001b[38;5;241m1\u001b[39m, keepdim\u001b[38;5;241m=\u001b[39m\u001b[38;5;28;01mTrue\u001b[39;00m)\n",
      "\u001b[0;31mRuntimeError\u001b[0m: stack expects each tensor to be equal size, but got [250880] at entry 0 and [188160] at entry 1241"
     ]
    }
   ],
   "source": [
    "dino_query_embeddings = torch.stack([qe.flatten() for qe in dino_query_embeddings])\n",
    "dino_gallery_embeddings = torch.stack([ge.flatten() for ge in dino_gallery_embeddings])\n",
    "\n",
    "print(dino_query_embeddings[0].shape)\n",
    "\n",
    "dino_query_embeddings_norm = dino_query_embeddings / dino_query_embeddings.norm(dim=1, keepdim=True)\n",
    "dino_gallery_embeddings_norm = dino_gallery_embeddings / dino_gallery_embeddings.norm(dim=1, keepdim=True)\n",
    "\n",
    "# Compute cosine similarity\n",
    "dino_cosine_similarities = F.cosine_similarity(\n",
    "    dino_query_embeddings_norm.unsqueeze(1), dino_gallery_embeddings_norm.unsqueeze(0), dim=2\n",
    ")\n",
    "\n",
    "# Sort and select top similarities for each query\n",
    "dino_cosine = []\n",
    "for i in range(len(dino_query_embeddings)):\n",
    "    dino_cosine.append(torch.argsort(dino_cosine_similarities[i, :], descending=True))"
   ]
  },
  {
   "cell_type": "code",
   "execution_count": null,
   "metadata": {},
   "outputs": [],
   "source": [
    "f = open(\"rank_list.txt\", \"w\")\n",
    "for i in range(len(dino_cosine)):\n",
    "    f.write(\"Q\" + str(i + 1) + \": \")    \n",
    "    f.write(\" \".join([str(x.item()) for x in dino_cosine[i]]))\n",
    "    f.write(\"\\n\")\n",
    "f.close()"
   ]
  },
  {
   "cell_type": "code",
   "execution_count": null,
   "metadata": {},
   "outputs": [],
   "source": []
  }
 ],
 "metadata": {
  "kernelspec": {
   "display_name": ".venv",
   "language": "python",
   "name": "python3"
  },
  "language_info": {
   "codemirror_mode": {
    "name": "ipython",
    "version": 3
   },
   "file_extension": ".py",
   "mimetype": "text/x-python",
   "name": "python",
   "nbconvert_exporter": "python",
   "pygments_lexer": "ipython3",
   "version": "3.10.10"
  }
 },
 "nbformat": 4,
 "nbformat_minor": 2
}

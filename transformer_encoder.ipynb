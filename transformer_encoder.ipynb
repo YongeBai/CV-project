{
 "cells": [
  {
   "cell_type": "code",
   "execution_count": 1,
   "metadata": {},
   "outputs": [],
   "source": [
    "import numpy as np\n",
    "import glob\n",
    "# import cv2\n",
    "from PIL import Image\n",
    "import matplotlib.pyplot as plt"
   ]
  },
  {
   "cell_type": "code",
   "execution_count": 2,
   "metadata": {},
   "outputs": [],
   "source": [
    "download_path = \"datasets\"  # change to your own download path\n",
    "path_query = download_path + \"/query_img_4186\"\n",
    "path_query_txt = download_path + \"/query_img_box_4186\"\n",
    "\n",
    "# path_query_txt is the directory to the bounding box information of the instance(s) for the query images\n",
    "path_gallery = download_path + \"/gallery_4186\"\n",
    "\n",
    "name_query = glob.glob(path_query + \"/*.jpg\")\n",
    "num_query = len(name_query)\n",
    "\n",
    "name_box = glob.glob(path_query_txt+\"/*.txt\")\n",
    "\n",
    "name_gallery = glob.glob(path_gallery + \"/*.jpg\")\n",
    "num_gallery = len(name_gallery)\n",
    "record_all = np.zeros((num_query, len(name_gallery)))\n",
    "\n",
    "query_imgs_no = [x.split(\"/\")[-1][:-4] for x in glob.glob(path_query + \"/*.jpg\")]\n",
    "gallery_imgs_no = [x.split(\"/\")[-1][:-4] for x in glob.glob(path_gallery + \"/*.jpg\")]"
   ]
  },
  {
   "cell_type": "code",
   "execution_count": 3,
   "metadata": {},
   "outputs": [],
   "source": [
    "# from transformers import AutoImageProcessor, AutoModel\n",
    "\n",
    "# processor = AutoImageProcessor.from_pretrained(\"facebook/dinov2-base\")\n",
    "# model = AutoModel.from_pretrained(\"facebook/dinov2-base\")"
   ]
  },
  {
   "cell_type": "code",
   "execution_count": 4,
   "metadata": {},
   "outputs": [
    {
     "name": "stderr",
     "output_type": "stream",
     "text": [
      "/home/yongebai/Desktop/CV/AssignmentOne/CV-project/.venv/lib/python3.10/site-packages/tqdm/auto.py:21: TqdmWarning: IProgress not found. Please update jupyter and ipywidgets. See https://ipywidgets.readthedocs.io/en/stable/user_install.html\n",
      "  from .autonotebook import tqdm as notebook_tqdm\n"
     ]
    }
   ],
   "source": [
    "import timm\n",
    "import torch\n",
    "\n",
    "\n",
    "model = timm.create_model(\n",
    "    'efficientnet_b0',\n",
    "    pretrained=True,\n",
    "    num_classes=0, \n",
    ")\n",
    "model = model.eval()\n",
    "device = \"cuda\" if torch.cuda.is_available() else \"cpu\"\n",
    "model = model.to(device)"
   ]
  },
  {
   "cell_type": "code",
   "execution_count": 5,
   "metadata": {},
   "outputs": [],
   "source": [
    "from torchvision.transforms import Resize, Compose, ToTensor\n",
    "from torch.utils.data import Dataset, DataLoader\n",
    "\n",
    "\n",
    "class QueryDataset(torch.utils.data.Dataset):\n",
    "    def __init__(self, image_paths, bounding_box_path,transform):        \n",
    "        self.image_paths = image_paths\n",
    "        self.transform = transform\n",
    "        self.bounding_box_path = bounding_box_path\n",
    "\n",
    "    def __len__(self):\n",
    "        return len(self.image_paths)\n",
    "\n",
    "    def __getitem__(self, idx):\n",
    "        image_path = self.image_paths[idx]\n",
    "        image = Image.open(image_path)\n",
    "\n",
    "        bounding_box = self.bounding_box_path[idx]\n",
    "        x, y, w, h = np.loadtxt(bounding_box)\n",
    "\n",
    "        # image = image.crop((x, y, x+w, y+h))        \n",
    "        image = self.transform(image)\n",
    "        return image\n",
    "\n",
    "class GalleryDataset(torch.utils.data.Dataset):\n",
    "    def __init__(self, image_paths, transform):        \n",
    "        self.image_paths = image_paths\n",
    "        self.transform = transform\n",
    "\n",
    "    def __len__(self):\n",
    "        return len(self.image_paths)\n",
    "\n",
    "    def __getitem__(self, idx):\n",
    "        image_path = self.image_paths[idx]\n",
    "        image = Image.open(image_path)        \n",
    "        image = self.transform(image)\n",
    "        return image  \n",
    "\n"
   ]
  },
  {
   "cell_type": "code",
   "execution_count": 6,
   "metadata": {},
   "outputs": [],
   "source": [
    "from torchvision.transforms import Resize, Compose, Normalize, CenterCrop\n",
    "from torchvision.transforms.functional import InterpolationMode\n",
    "import torch\n",
    "\n",
    "data_config = timm.data.resolve_model_data_config(model)\n",
    "transforms = timm.data.create_transform(**data_config, is_training=False)"
   ]
  },
  {
   "cell_type": "code",
   "execution_count": 7,
   "metadata": {},
   "outputs": [],
   "source": [
    "dataset = QueryDataset(name_query, name_box, transform=transforms)\n",
    "data_loader = DataLoader(dataset, batch_size=4, num_workers=4)  \n",
    "\n",
    "dino_query_embeddings = []\n",
    "with torch.no_grad():\n",
    "    for images in data_loader:\n",
    "        outputs = model.forward_features(images.to(device))\n",
    "        # outputs = model.forward_features(images)\n",
    "        dino_query_embeddings.append(outputs)\n",
    "        # torch.cuda.empty_cache()\n",
    "        "
   ]
  },
  {
   "cell_type": "code",
   "execution_count": 8,
   "metadata": {},
   "outputs": [
    {
     "name": "stdout",
     "output_type": "stream",
     "text": [
      "torch.Size([4, 1280, 7, 7])\n"
     ]
    }
   ],
   "source": [
    "print(dino_query_embeddings[0].shape)"
   ]
  },
  {
   "cell_type": "code",
   "execution_count": 9,
   "metadata": {},
   "outputs": [],
   "source": [
    "# # del model\n",
    "# # gc.collect()\n",
    "# # torch.cuda.empty_cache()\n",
    "\n",
    "# model = timm.create_model(\n",
    "#     'samvit_base_patch16.sa1b',\n",
    "#     pretrained=True,\n",
    "#     num_classes=0, \n",
    "# )\n",
    "# model = model.eval()\n",
    "# device = \"cuda\" if torch.cuda.is_available() else \"cpu\"\n",
    "# model = model.to(device)"
   ]
  },
  {
   "cell_type": "code",
   "execution_count": 9,
   "metadata": {},
   "outputs": [],
   "source": [
    "dataset = GalleryDataset(name_gallery, transform=transforms)\n",
    "data_loader = DataLoader(dataset, batch_size=4, num_workers=4)  \n",
    "\n",
    "dino_gallery_embeddings = []\n",
    "with torch.no_grad():\n",
    "    for images in data_loader:\n",
    "        outputs = model.forward_features(images.to(device))\n",
    "        dino_gallery_embeddings.append(outputs)\n",
    "        # torch.cuda.empty_cache()"
   ]
  },
  {
   "cell_type": "code",
   "execution_count": 10,
   "metadata": {},
   "outputs": [
    {
     "name": "stdout",
     "output_type": "stream",
     "text": [
      "torch.Size([4, 1280, 7, 7])\n",
      "torch.Size([4, 1280, 7, 7])\n"
     ]
    }
   ],
   "source": [
    "print(dino_gallery_embeddings[0].shape)\n",
    "print(dino_query_embeddings[0].shape)"
   ]
  },
  {
   "cell_type": "code",
   "execution_count": 11,
   "metadata": {},
   "outputs": [],
   "source": [
    "\n",
    "# dino_query_embeddings = []\n",
    "\n",
    "# for i, query_img_no in enumerate(query_imgs_no[:1]):    \n",
    "#     per_query_name = path_query + \"/\" + str(query_img_no) + \".jpg\"\n",
    "#     per_query_txt_name = path_query_txt + \"/\" + str(query_img_no) + \".txt\"\n",
    "#     print(per_query_name)\n",
    "#     x, y, w, h = np.loadtxt(per_query_txt_name)\n",
    "#     per_query = cv2.imread(per_query_name)    \n",
    "#     per_query = cv2.cvtColor(per_query, cv2.COLOR_BGR2RGB)\n",
    "#     per_query = per_query[int(y):int(y+h), int(x):int(x+w)]\n",
    "#     inputs = processor(images=per_query, return_tensors=\"pt\")\n",
    "#     outputs = model(**inputs)\n",
    "#     dino_query_embeddings.append(outputs.last_hidden_state)"
   ]
  },
  {
   "cell_type": "code",
   "execution_count": 12,
   "metadata": {},
   "outputs": [],
   "source": [
    "# dino_gallery_embeddings = []\n",
    "\n",
    "# for j, gallery_img_no in enumerate(gallery_imgs_no):\n",
    "#     per_gallery_name = path_gallery + \"/\" + str(gallery_img_no) + \".jpg\"\n",
    "#     per_gallery = cv2.imread(per_gallery_name)\n",
    "#     per_gallery = cv2.cvtColor(per_gallery, cv2.COLOR_BGR2RGB)\n",
    "#     inputs = processor(images=per_gallery, return_tensors=\"pt\")\n",
    "#     outputs = model(**inputs)\n",
    "#     dino_gallery_embeddings.append(outputs.last_hidden_state)\n"
   ]
  },
  {
   "cell_type": "code",
   "execution_count": 14,
   "metadata": {},
   "outputs": [
    {
     "name": "stdout",
     "output_type": "stream",
     "text": [
      "torch.Size([250880])\n",
      "torch.Size([250880])\n"
     ]
    }
   ],
   "source": [
    "import torch.nn.functional as F\n",
    "\n",
    "dino_query_embeddings = torch.stack([qe.flatten() for qe in dino_query_embeddings])\n",
    "dino_gallery_embeddings = torch.stack([ge.flatten() for ge in dino_gallery_embeddings])\n",
    "\n",
    "\n",
    "print(dino_query_embeddings[0].shape)\n",
    "print(dino_gallery_embeddings[0].shape)"
   ]
  },
  {
   "cell_type": "code",
   "execution_count": 15,
   "metadata": {},
   "outputs": [],
   "source": [
    "dino_query_embeddings_norm = dino_query_embeddings / dino_query_embeddings.norm(\n",
    "    dim=1, keepdim=True\n",
    ")\n",
    "dino_gallery_embeddings_norm = dino_gallery_embeddings / dino_gallery_embeddings.norm(\n",
    "    dim=1, keepdim=True\n",
    ")"
   ]
  },
  {
   "cell_type": "code",
   "execution_count": 16,
   "metadata": {},
   "outputs": [
    {
     "name": "stdout",
     "output_type": "stream",
     "text": [
      "torch.Size([250880])\n",
      "torch.Size([250880])\n"
     ]
    }
   ],
   "source": [
    "print(dino_query_embeddings_norm[0].shape)  \n",
    "print(dino_gallery_embeddings_norm[0].shape)"
   ]
  },
  {
   "cell_type": "code",
   "execution_count": 17,
   "metadata": {},
   "outputs": [
    {
     "ename": "",
     "evalue": "",
     "output_type": "error",
     "traceback": [
      "\u001b[1;31mThe Kernel crashed while executing code in the current cell or a previous cell. \n",
      "\u001b[1;31mPlease review the code in the cell(s) to identify a possible cause of the failure. \n",
      "\u001b[1;31mClick <a href='https://aka.ms/vscodeJupyterKernelCrash'>here</a> for more info. \n",
      "\u001b[1;31mView Jupyter <a href='command:jupyter.viewOutput'>log</a> for further details."
     ]
    }
   ],
   "source": [
    "batch_size = 4  # Adjust this based on your available memory\n",
    "num_batches = (dino_query_embeddings_norm.shape[0] + batch_size - 1) // batch_size\n",
    "\n",
    "dino_cosine_similarities = []\n",
    "\n",
    "for i in range(num_batches):\n",
    "    start = i * batch_size\n",
    "    end = start + batch_size\n",
    "    batch_query = dino_query_embeddings_norm[start:end].unsqueeze(1)\n",
    "    batch_similarities = F.cosine_similarity(\n",
    "        batch_query, dino_gallery_embeddings_norm.unsqueeze(0), dim=2\n",
    "    )\n",
    "    dino_cosine_similarities.append(batch_similarities)\n",
    "\n",
    "dino_cosine_similarities = torch.cat(dino_cosine_similarities)"
   ]
  },
  {
   "cell_type": "code",
   "execution_count": 14,
   "metadata": {},
   "outputs": [
    {
     "name": "stdout",
     "output_type": "stream",
     "text": [
      "torch.Size([250880])\n"
     ]
    },
    {
     "ename": "",
     "evalue": "",
     "output_type": "error",
     "traceback": [
      "\u001b[1;31mThe Kernel crashed while executing code in the current cell or a previous cell. \n",
      "\u001b[1;31mPlease review the code in the cell(s) to identify a possible cause of the failure. \n",
      "\u001b[1;31mClick <a href='https://aka.ms/vscodeJupyterKernelCrash'>here</a> for more info. \n",
      "\u001b[1;31mView Jupyter <a href='command:jupyter.viewOutput'>log</a> for further details."
     ]
    }
   ],
   "source": [
    "# Compute cosine similarity\n",
    "# dino_cosine_similarities = F.cosine_similarity(\n",
    "#     dino_query_embeddings_norm.unsqueeze(1), dino_gallery_embeddings_norm.unsqueeze(0), dim=2\n",
    "# )\n",
    "\n",
    "# Sort and select top similarities for each query\n",
    "dino_cosine = []\n",
    "for i in range(len(dino_query_embeddings)):\n",
    "    dino_cosine.append(torch.argsort(dino_cosine_similarities[i, :], descending=True))"
   ]
  },
  {
   "cell_type": "code",
   "execution_count": null,
   "metadata": {},
   "outputs": [],
   "source": [
    "f = open(\"rank_list.txt\", \"w\")\n",
    "for i in range(len(dino_cosine)):\n",
    "    f.write(\"Q\" + str(i + 1) + \": \")    \n",
    "    f.write(\" \".join([str(x.item()) for x in dino_cosine[i]]))\n",
    "    f.write(\"\\n\")\n",
    "f.close()"
   ]
  },
  {
   "cell_type": "code",
   "execution_count": null,
   "metadata": {},
   "outputs": [],
   "source": []
  }
 ],
 "metadata": {
  "kernelspec": {
   "display_name": ".venv",
   "language": "python",
   "name": "python3"
  },
  "language_info": {
   "codemirror_mode": {
    "name": "ipython",
    "version": 3
   },
   "file_extension": ".py",
   "mimetype": "text/x-python",
   "name": "python",
   "nbconvert_exporter": "python",
   "pygments_lexer": "ipython3",
   "version": "3.10.6"
  }
 },
 "nbformat": 4,
 "nbformat_minor": 2
}
